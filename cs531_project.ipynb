{
  "nbformat": 4,
  "nbformat_minor": 0,
  "metadata": {
    "colab": {
      "name": "cs531_project.ipynb",
      "provenance": [],
      "collapsed_sections": [],
      "include_colab_link": true
    },
    "kernelspec": {
      "name": "python3",
      "display_name": "Python 3"
    },
    "language_info": {
      "name": "python"
    }
  },
  "cells": [
    {
      "cell_type": "markdown",
      "metadata": {
        "id": "view-in-github",
        "colab_type": "text"
      },
      "source": [
        "<a href=\"https://colab.research.google.com/github/rajiv256/cs531_project_1/blob/main/cs531_project.ipynb\" target=\"_parent\"><img src=\"https://colab.research.google.com/assets/colab-badge.svg\" alt=\"Open In Colab\"/></a>"
      ]
    },
    {
      "cell_type": "markdown",
      "metadata": {
        "id": "0znfbvySZFG9"
      },
      "source": [
        "# Imports and Global Variables"
      ]
    },
    {
      "cell_type": "code",
      "metadata": {
        "id": "zwA6oisbZI7n"
      },
      "source": [
        "import pandas as pd\n",
        "import numpy as np\n",
        "import random\n",
        "import math\n",
        "import matplotlib.pyplot as plt\n",
        "import seaborn as sns\n",
        "sns.set_theme()"
      ],
      "execution_count": 90,
      "outputs": []
    },
    {
      "cell_type": "markdown",
      "metadata": {
        "id": "HMljx5VOXIn5"
      },
      "source": [
        "# Distances"
      ]
    },
    {
      "cell_type": "code",
      "metadata": {
        "id": "xWdg9d-uXJsp"
      },
      "source": [
        "def dtw(T1, T2):\n",
        "    \"\"\"\n",
        "    This is code with running time O(|T1|*|T2|) and space O(|T2|)\n",
        "    It returns only the value for dtw(T1,T2)\n",
        "    Below is code with running time O(|T1|*|T2|) and space O(|T1|*|T2|), that can also return the monotone assignment\n",
        "    \n",
        "    memo = [0] * len(T2)\n",
        "    memo[0] .append(dist(T1[0], T2[0]))\n",
        "    for col in range(1, len(T2)):\n",
        "        memo[i] = memo[col - 1] + dist(T1[0], T2[col])\n",
        "        \n",
        "    for row in range(1, len(T1)):\n",
        "        temp = memo[0]\n",
        "        memo[0] = memo[0] + dist(T1[row], T2[0])\n",
        "        for col in range(1, len(T2)):\n",
        "            store = memo[col]\n",
        "            \n",
        "            memo[col] = dist(T1[row], T2[col]) + min(temp, memo[col-1], memo[col])\n",
        "            temp = store\n",
        "            \n",
        "    return memo[-1]\n",
        "    \"\"\"\n",
        "    \n",
        "    #We store in matrix[row][col][0] the minimal dtw when we assign only the first \"row\" points in T1 \n",
        "    #and the first \"col\" points in T2.\n",
        "    #matrix[row][col] = dist(T1[row], T2[col]) + min(matrix[row-1][col-1], matrix[row-1][col], matrix[row][col-1])\n",
        "    \n",
        "    #Note that an assignment of the first \"row\" points in T1 and the first \"col\" points in T2, \n",
        "    #always assigns the last point of T1 to the last point of T2.\n",
        "    #Note as well that the assignment of points is monotone and thus it is nondecreasing in both indices\n",
        "    #i.e. assignment[i][0] <= assignment[i + 1][0], and assignment[i][1] <= assignment[i + 1][1]\n",
        "    #That allows us to efficiently store only the differences between assignment[i + 1] - assignment[i]\n",
        "    \n",
        "    #Thus we store in matrix[row][col][1] the previous tuple of points in the assignment \n",
        "    #E.g. if matrix[row-1][col-1] ==  min(matrix[row-1][col-1], matrix[row-1][col], matrix[row][col-1]),\n",
        "    #then we asssign (row-1, col-1), and store in matrix[row][col][1] the vector (-1,-1) since (row-1, col-1) = (row, col) + (-1,-1)\n",
        "    \n",
        "    #if matrix[row-1][col] ==  min(matrix[row-1][col-1], matrix[row-1][col], matrix[row][col-1]),\n",
        "    #then we asssign (row-1, col), and store in matrix[row][col][1] the vector (-1,0) since (row-1, col) = (row, col) + (-1,0)\n",
        "    \n",
        "    matrix = [[[] for i in range(len(T2))] for j in range(len(T1))]\n",
        "    matrix[0][0].append(dist(T1[0], T2[0]))\n",
        "    for col in range(1, len(T2)):\n",
        "        matrix[0][col].append(matrix[0][col - 1][0] + dist(T1[0], T2[col]))\n",
        "        matrix[0][col].append((0,-1))\n",
        "    for row in range(1, len(T1)):\n",
        "        matrix[row][0].append(matrix[row - 1][0][0] + dist(T1[row], T2[0]))\n",
        "        matrix[row][0].append((-1,0))\n",
        "        \n",
        "    for row in range(1, len(T1)):\n",
        "        for col in range(1, len(T2)):\n",
        "            recursive = min(matrix[row-1][col-1][0], matrix[row-1][col][0], matrix[row][col-1][0])\n",
        "            \n",
        "            matrix[row][col].append(dist(T1[row], T2[col]) + recursive)\n",
        "            \n",
        "            if matrix[row-1][col-1][0] == recursive:\n",
        "                matrix[row][col].append((-1,-1))\n",
        "            elif matrix[row-1][col][0] == recursive:\n",
        "                matrix[row][col].append((-1,0))\n",
        "            else:\n",
        "                matrix[row][col].append((0,-1))\n",
        "    \n",
        "    #The moves that we store in matrix[i][j][1] are essentially pointers to the next tuple of points in @assignment\n",
        "    #We traverse through those pointers from the bottom right corner (len(T1)- 1, len(T2) -1) until we reach (0,0).\n",
        "    \n",
        "    row , col = len(T1)-1, len(T2)-1\n",
        "    assignment = [(row,col)]\n",
        "    while (row,col) != (0,0):\n",
        "        move = matrix[row][col][1]\n",
        "        row = row + move[0]\n",
        "        col = col + move[1]\n",
        "        assignment.append((row,col))\n",
        "        \n",
        "    return matrix[-1][-1][0], assignment\n",
        "\n",
        "def dfd(T1, T2):\n",
        "    \n",
        "    matrix = [[[] for i in range(len(T2))] for j in range(len(T1))]\n",
        "    matrix[0][0].append(dist(T1[0], T2[0]))\n",
        "    for col in range(1, len(T2)):\n",
        "        matrix[0][col].append(max(matrix[0][col - 1][0], dist(T1[0], T2[col])))\n",
        "        matrix[0][col].append((0,-1))\n",
        "    for row in range(1, len(T1)):\n",
        "        matrix[row][0].append(max(matrix[row -1][0][0], dist(T1[row], T2[0])))\n",
        "        matrix[row][0].append((-1,0))\n",
        "        \n",
        "    for row in range(1, len(T1)):\n",
        "        for col in range(1, len(T2)):\n",
        "            recursive = min(matrix[row-1][col-1][0], matrix[row-1][col][0], matrix[row][col-1][0])\n",
        "            \n",
        "            matrix[row][col].append(max(dist(T1[row], T2[col]), recursive))\n",
        "            \n",
        "            if matrix[row-1][col-1][0] == recursive:\n",
        "                matrix[row][col].append((-1,-1))\n",
        "            elif matrix[row-1][col][0] == recursive:\n",
        "                matrix[row][col].append((-1,0))\n",
        "            else:\n",
        "                matrix[row][col].append((0,-1))\n",
        "    \n",
        "    row , col = len(T1) -1, len(T2) -1\n",
        "    assignment = [(row,col)]\n",
        "    while (row,col) != (0,0):\n",
        "        move = matrix[row][col][1]\n",
        "        row = row + move[0]\n",
        "        col = col + move[1]\n",
        "        assignment.append((row,col))\n",
        "        \n",
        "    \n",
        "    return matrix[-1][-1][0], assignment\n",
        "\n",
        "def dist(p,q):\n",
        "    return np.sqrt((p[0] - q[0]) * (p[0] - q[0]) + (p[1] - q[1]) * (p[1] - q[1]))"
      ],
      "execution_count": 91,
      "outputs": []
    },
    {
      "cell_type": "code",
      "metadata": {
        "id": "4ysJbtRbXRGm",
        "colab": {
          "base_uri": "https://localhost:8080/"
        },
        "outputId": "b08e005c-2e7b-4277-d82f-e77908f4ce1d"
      },
      "source": [
        "T1 = [[2.1528258009133423, 39.928559077994336], [4.647866589959677, 39.64780624386843], [11.898642946750682, 41.63206128804344], [15.726165297734324, 36.05724150539296], [18.557827345122377, 40.11710460746173], [20.39324892032885, 40.41894870225849], [23.93363772618855, 41.80654250446041], [24.795928009022074, 40.95441045309481], [33.829816600734915, 37.56899354282297], [36.36405536424457, 37.83404055097146], [39.02119417876203, 37.62893662971022], [41.36428411650761, 39.27784213899114], [47.13114231258418, 38.376802156195225], [46.740288655857505, 38.28599982867999], [53.37809242934663, 35.729322675103155], [57.645146849476745, 39.782342857479584], [64.45643110020353, 40.7546622322405], [60.4804857552955, 41.86491777538794], [64.88100271594271, 40.066326679717385]]\n",
        "T2 = [[2.172278245340232, 16.073950141614443], [8.231413636318653, 17.397971866059713], [12.084155569324675, 11.902888640897244], [16.41705862513891, 13.884552536746936], [20.39755197314447, 15.264276751490838], [21.822812402046946, 15.79175824742101], [31.188573323402423, 14.170271056517382], [35.648333717148795, 15.447419764543207], [36.74704074852836, 13.160089800455848], [39.52567236908733, 14.715485873043567], [45.427437674525365, 14.547430037544265], [48.19894173144, 16.43543393014399], [53.1298754931151, 14.199951190186653], [53.484008816238344, 13.648377277391493], [64.37349604796216, 13.661172695102966], [65.6548004169061, 15.418074772217677]]\n",
        "\n",
        "d, assignment = dfd(T1, T2)\n",
        "assignment"
      ],
      "execution_count": 72,
      "outputs": [
        {
          "output_type": "execute_result",
          "data": {
            "text/plain": [
              "[(18, 15),\n",
              " (17, 15),\n",
              " (16, 15),\n",
              " (15, 15),\n",
              " (14, 14),\n",
              " (13, 13),\n",
              " (12, 12),\n",
              " (11, 11),\n",
              " (10, 10),\n",
              " (9, 9),\n",
              " (8, 8),\n",
              " (8, 7),\n",
              " (8, 6),\n",
              " (7, 5),\n",
              " (6, 5),\n",
              " (5, 5),\n",
              " (4, 5),\n",
              " (3, 4),\n",
              " (3, 3),\n",
              " (3, 2),\n",
              " (2, 1),\n",
              " (1, 0),\n",
              " (0, 0)]"
            ]
          },
          "metadata": {},
          "execution_count": 72
        }
      ]
    },
    {
      "cell_type": "code",
      "metadata": {
        "id": "sD3T8XkaYTey",
        "colab": {
          "base_uri": "https://localhost:8080/"
        },
        "outputId": "51bcd20b-8e6c-4911-b6a9-def4a808f8ca"
      },
      "source": [
        "from google.colab import drive\n",
        "drive.mount('/content/drive')"
      ],
      "execution_count": 73,
      "outputs": [
        {
          "output_type": "stream",
          "name": "stdout",
          "text": [
            "Drive already mounted at /content/drive; to attempt to forcibly remount, call drive.mount(\"/content/drive\", force_remount=True).\n"
          ]
        }
      ]
    },
    {
      "cell_type": "markdown",
      "metadata": {
        "id": "2lL3tbGMayjf"
      },
      "source": [
        "# Utils"
      ]
    },
    {
      "cell_type": "code",
      "metadata": {
        "id": "3Nlqy4gnaxe_"
      },
      "source": [
        "import pandas as pd\n",
        "import random as rnd\n",
        "\n",
        "def draw_a_trajectory(dataset='highway'):\n",
        "    '''Returns a list of sorted points from a dataset.'''\n",
        "    PATH = '/content/highway.csv' if dataset=='highway' else '/content/energy.csv'\n",
        "    df = pd.read_csv(PATH)\n",
        "    ids = list(set(df['id']))\n",
        "    select_one = rnd.randint(0, len(ids))\n",
        "    pts = list(df[df['id']==select_one][['x', 'y']].values)\n",
        "    pts = [list(pt) for pt in pts]\n",
        "    id = ids[select_one]\n",
        "    return id, pts"
      ],
      "execution_count": 74,
      "outputs": []
    },
    {
      "cell_type": "markdown",
      "metadata": {
        "id": "G675dHBUjvOp"
      },
      "source": [
        "# Plotting Utils"
      ]
    },
    {
      "cell_type": "code",
      "metadata": {
        "id": "PnFWk8lajua-"
      },
      "source": [
        "import matplotlib.pyplot as plt\n",
        "import seaborn as sns\n",
        "sns.set_style('whitegrid')\n",
        "\n",
        "# Plot an assignment\n",
        "\n",
        "def plot_trajectory(T, linestyle='solid', color=None): # or dotted\n",
        "    data = {\n",
        "        'x':[], 'y':[]\n",
        "    }\n",
        "    for pt in T:\n",
        "        data['x'].append(pt[0])\n",
        "        data['y'].append(pt[1])\n",
        "    g = sns.lineplot(data=data, x='x', y='y', markers=True, linestyle=linestyle, color=color)\n",
        "    return g\n",
        "\n",
        "def plot_assignment(T1, T2, d, assignment, id1, id2):\n",
        "    g1 = plot_trajectory(T1, linestyle=\"solid\")\n",
        "    g2 = plot_trajectory(T2, linestyle=\"solid\")\n",
        "    for item in assignment:\n",
        "        joining_trajectory = [T1[item[0]], T2[item[1]]]\n",
        "        g = plot_trajectory(joining_trajectory, linestyle='dashdot')\n",
        "\n"
      ],
      "execution_count": 75,
      "outputs": []
    },
    {
      "cell_type": "code",
      "metadata": {
        "id": "T1C5lSW1YVyb"
      },
      "source": [
        "# highway_df = pd.read_csv('/content/highway.csv', sep=',')\n",
        "# print(f'Highway dataset:\\nNo. of points: {len(highway_df)}\\nNo. of lanes: {len(set(highway_df[\"lane\"]))} \\\n",
        "#       \\nNo. of trajectories: {len(set(highway_df[\"id\"]))}')"
      ],
      "execution_count": 76,
      "outputs": []
    },
    {
      "cell_type": "markdown",
      "metadata": {
        "id": "OFkNHY7R1EDc"
      },
      "source": [
        "# 3.2.1"
      ]
    },
    {
      "cell_type": "code",
      "metadata": {
        "id": "stjFxTbUYgIX",
        "colab": {
          "base_uri": "https://localhost:8080/",
          "height": 460
        },
        "outputId": "5dbad242-aba2-4d50-c029-8cc8e0273d2c"
      },
      "source": [
        "fig = plt.figure(figsize = (16,16))\n",
        "plt.subplots_adjust(hspace=0.2)\n",
        "iter = 1\n",
        "while iter <= 4:\n",
        "    id1, T1 = draw_a_trajectory('highway')\n",
        "    id2, T2 = draw_a_trajectory('highway')\n",
        "\n",
        "    ax = fig.add_subplot(2, 2, iter)\n",
        "    \n",
        "    d, assignment = dtw(T1, T2)\n",
        "    plot_assignment(T1, T2, d, assignment, id1, id2)\n",
        "    ax.set_title(f'T1: {id1} | T2: {id2} |  measure: dtw | distance: {d}')\n",
        "\n",
        "    iter += 1\n",
        "    ax = fig.add_subplot(2, 2, iter)\n",
        "    \n",
        "    d, assignment = dfd(T1, T2)\n",
        "    plot_assignment(T1, T2, d, assignment, id1, id2)\n",
        "    ax.set_title(f'T1: {id1} | T2: {id2} |  measure: dfd | distance: {d}')\n",
        "    iter += 1"
      ],
      "execution_count": 77,
      "outputs": [
        {
          "output_type": "error",
          "ename": "FileNotFoundError",
          "evalue": "ignored",
          "traceback": [
            "\u001b[0;31m---------------------------------------------------------------------------\u001b[0m",
            "\u001b[0;31mFileNotFoundError\u001b[0m                         Traceback (most recent call last)",
            "\u001b[0;32m<ipython-input-77-afd402523098>\u001b[0m in \u001b[0;36m<module>\u001b[0;34m()\u001b[0m\n\u001b[1;32m      3\u001b[0m \u001b[0miter\u001b[0m \u001b[0;34m=\u001b[0m \u001b[0;36m1\u001b[0m\u001b[0;34m\u001b[0m\u001b[0;34m\u001b[0m\u001b[0m\n\u001b[1;32m      4\u001b[0m \u001b[0;32mwhile\u001b[0m \u001b[0miter\u001b[0m \u001b[0;34m<=\u001b[0m \u001b[0;36m4\u001b[0m\u001b[0;34m:\u001b[0m\u001b[0;34m\u001b[0m\u001b[0;34m\u001b[0m\u001b[0m\n\u001b[0;32m----> 5\u001b[0;31m     \u001b[0mid1\u001b[0m\u001b[0;34m,\u001b[0m \u001b[0mT1\u001b[0m \u001b[0;34m=\u001b[0m \u001b[0mdraw_a_trajectory\u001b[0m\u001b[0;34m(\u001b[0m\u001b[0;34m'highway'\u001b[0m\u001b[0;34m)\u001b[0m\u001b[0;34m\u001b[0m\u001b[0;34m\u001b[0m\u001b[0m\n\u001b[0m\u001b[1;32m      6\u001b[0m     \u001b[0mid2\u001b[0m\u001b[0;34m,\u001b[0m \u001b[0mT2\u001b[0m \u001b[0;34m=\u001b[0m \u001b[0mdraw_a_trajectory\u001b[0m\u001b[0;34m(\u001b[0m\u001b[0;34m'highway'\u001b[0m\u001b[0;34m)\u001b[0m\u001b[0;34m\u001b[0m\u001b[0;34m\u001b[0m\u001b[0m\n\u001b[1;32m      7\u001b[0m \u001b[0;34m\u001b[0m\u001b[0m\n",
            "\u001b[0;32m<ipython-input-74-1d75a5632a1c>\u001b[0m in \u001b[0;36mdraw_a_trajectory\u001b[0;34m(dataset)\u001b[0m\n\u001b[1;32m      5\u001b[0m     \u001b[0;34m'''Returns a list of sorted points from a dataset.'''\u001b[0m\u001b[0;34m\u001b[0m\u001b[0;34m\u001b[0m\u001b[0m\n\u001b[1;32m      6\u001b[0m     \u001b[0mPATH\u001b[0m \u001b[0;34m=\u001b[0m \u001b[0;34m'/content/highway.csv'\u001b[0m \u001b[0;32mif\u001b[0m \u001b[0mdataset\u001b[0m\u001b[0;34m==\u001b[0m\u001b[0;34m'highway'\u001b[0m \u001b[0;32melse\u001b[0m \u001b[0;34m'/content/energy.csv'\u001b[0m\u001b[0;34m\u001b[0m\u001b[0;34m\u001b[0m\u001b[0m\n\u001b[0;32m----> 7\u001b[0;31m     \u001b[0mdf\u001b[0m \u001b[0;34m=\u001b[0m \u001b[0mpd\u001b[0m\u001b[0;34m.\u001b[0m\u001b[0mread_csv\u001b[0m\u001b[0;34m(\u001b[0m\u001b[0mPATH\u001b[0m\u001b[0;34m)\u001b[0m\u001b[0;34m\u001b[0m\u001b[0;34m\u001b[0m\u001b[0m\n\u001b[0m\u001b[1;32m      8\u001b[0m     \u001b[0mids\u001b[0m \u001b[0;34m=\u001b[0m \u001b[0mlist\u001b[0m\u001b[0;34m(\u001b[0m\u001b[0mset\u001b[0m\u001b[0;34m(\u001b[0m\u001b[0mdf\u001b[0m\u001b[0;34m[\u001b[0m\u001b[0;34m'id'\u001b[0m\u001b[0;34m]\u001b[0m\u001b[0;34m)\u001b[0m\u001b[0;34m)\u001b[0m\u001b[0;34m\u001b[0m\u001b[0;34m\u001b[0m\u001b[0m\n\u001b[1;32m      9\u001b[0m     \u001b[0mselect_one\u001b[0m \u001b[0;34m=\u001b[0m \u001b[0mrnd\u001b[0m\u001b[0;34m.\u001b[0m\u001b[0mrandint\u001b[0m\u001b[0;34m(\u001b[0m\u001b[0;36m0\u001b[0m\u001b[0;34m,\u001b[0m \u001b[0mlen\u001b[0m\u001b[0;34m(\u001b[0m\u001b[0mids\u001b[0m\u001b[0;34m)\u001b[0m\u001b[0;34m)\u001b[0m\u001b[0;34m\u001b[0m\u001b[0;34m\u001b[0m\u001b[0m\n",
            "\u001b[0;32m/usr/local/lib/python3.7/dist-packages/pandas/io/parsers.py\u001b[0m in \u001b[0;36mread_csv\u001b[0;34m(filepath_or_buffer, sep, delimiter, header, names, index_col, usecols, squeeze, prefix, mangle_dupe_cols, dtype, engine, converters, true_values, false_values, skipinitialspace, skiprows, skipfooter, nrows, na_values, keep_default_na, na_filter, verbose, skip_blank_lines, parse_dates, infer_datetime_format, keep_date_col, date_parser, dayfirst, cache_dates, iterator, chunksize, compression, thousands, decimal, lineterminator, quotechar, quoting, doublequote, escapechar, comment, encoding, dialect, error_bad_lines, warn_bad_lines, delim_whitespace, low_memory, memory_map, float_precision)\u001b[0m\n\u001b[1;32m    686\u001b[0m     )\n\u001b[1;32m    687\u001b[0m \u001b[0;34m\u001b[0m\u001b[0m\n\u001b[0;32m--> 688\u001b[0;31m     \u001b[0;32mreturn\u001b[0m \u001b[0m_read\u001b[0m\u001b[0;34m(\u001b[0m\u001b[0mfilepath_or_buffer\u001b[0m\u001b[0;34m,\u001b[0m \u001b[0mkwds\u001b[0m\u001b[0;34m)\u001b[0m\u001b[0;34m\u001b[0m\u001b[0;34m\u001b[0m\u001b[0m\n\u001b[0m\u001b[1;32m    689\u001b[0m \u001b[0;34m\u001b[0m\u001b[0m\n\u001b[1;32m    690\u001b[0m \u001b[0;34m\u001b[0m\u001b[0m\n",
            "\u001b[0;32m/usr/local/lib/python3.7/dist-packages/pandas/io/parsers.py\u001b[0m in \u001b[0;36m_read\u001b[0;34m(filepath_or_buffer, kwds)\u001b[0m\n\u001b[1;32m    452\u001b[0m \u001b[0;34m\u001b[0m\u001b[0m\n\u001b[1;32m    453\u001b[0m     \u001b[0;31m# Create the parser.\u001b[0m\u001b[0;34m\u001b[0m\u001b[0;34m\u001b[0m\u001b[0;34m\u001b[0m\u001b[0m\n\u001b[0;32m--> 454\u001b[0;31m     \u001b[0mparser\u001b[0m \u001b[0;34m=\u001b[0m \u001b[0mTextFileReader\u001b[0m\u001b[0;34m(\u001b[0m\u001b[0mfp_or_buf\u001b[0m\u001b[0;34m,\u001b[0m \u001b[0;34m**\u001b[0m\u001b[0mkwds\u001b[0m\u001b[0;34m)\u001b[0m\u001b[0;34m\u001b[0m\u001b[0;34m\u001b[0m\u001b[0m\n\u001b[0m\u001b[1;32m    455\u001b[0m \u001b[0;34m\u001b[0m\u001b[0m\n\u001b[1;32m    456\u001b[0m     \u001b[0;32mif\u001b[0m \u001b[0mchunksize\u001b[0m \u001b[0;32mor\u001b[0m \u001b[0miterator\u001b[0m\u001b[0;34m:\u001b[0m\u001b[0;34m\u001b[0m\u001b[0;34m\u001b[0m\u001b[0m\n",
            "\u001b[0;32m/usr/local/lib/python3.7/dist-packages/pandas/io/parsers.py\u001b[0m in \u001b[0;36m__init__\u001b[0;34m(self, f, engine, **kwds)\u001b[0m\n\u001b[1;32m    946\u001b[0m             \u001b[0mself\u001b[0m\u001b[0;34m.\u001b[0m\u001b[0moptions\u001b[0m\u001b[0;34m[\u001b[0m\u001b[0;34m\"has_index_names\"\u001b[0m\u001b[0;34m]\u001b[0m \u001b[0;34m=\u001b[0m \u001b[0mkwds\u001b[0m\u001b[0;34m[\u001b[0m\u001b[0;34m\"has_index_names\"\u001b[0m\u001b[0;34m]\u001b[0m\u001b[0;34m\u001b[0m\u001b[0;34m\u001b[0m\u001b[0m\n\u001b[1;32m    947\u001b[0m \u001b[0;34m\u001b[0m\u001b[0m\n\u001b[0;32m--> 948\u001b[0;31m         \u001b[0mself\u001b[0m\u001b[0;34m.\u001b[0m\u001b[0m_make_engine\u001b[0m\u001b[0;34m(\u001b[0m\u001b[0mself\u001b[0m\u001b[0;34m.\u001b[0m\u001b[0mengine\u001b[0m\u001b[0;34m)\u001b[0m\u001b[0;34m\u001b[0m\u001b[0;34m\u001b[0m\u001b[0m\n\u001b[0m\u001b[1;32m    949\u001b[0m \u001b[0;34m\u001b[0m\u001b[0m\n\u001b[1;32m    950\u001b[0m     \u001b[0;32mdef\u001b[0m \u001b[0mclose\u001b[0m\u001b[0;34m(\u001b[0m\u001b[0mself\u001b[0m\u001b[0;34m)\u001b[0m\u001b[0;34m:\u001b[0m\u001b[0;34m\u001b[0m\u001b[0;34m\u001b[0m\u001b[0m\n",
            "\u001b[0;32m/usr/local/lib/python3.7/dist-packages/pandas/io/parsers.py\u001b[0m in \u001b[0;36m_make_engine\u001b[0;34m(self, engine)\u001b[0m\n\u001b[1;32m   1178\u001b[0m     \u001b[0;32mdef\u001b[0m \u001b[0m_make_engine\u001b[0m\u001b[0;34m(\u001b[0m\u001b[0mself\u001b[0m\u001b[0;34m,\u001b[0m \u001b[0mengine\u001b[0m\u001b[0;34m=\u001b[0m\u001b[0;34m\"c\"\u001b[0m\u001b[0;34m)\u001b[0m\u001b[0;34m:\u001b[0m\u001b[0;34m\u001b[0m\u001b[0;34m\u001b[0m\u001b[0m\n\u001b[1;32m   1179\u001b[0m         \u001b[0;32mif\u001b[0m \u001b[0mengine\u001b[0m \u001b[0;34m==\u001b[0m \u001b[0;34m\"c\"\u001b[0m\u001b[0;34m:\u001b[0m\u001b[0;34m\u001b[0m\u001b[0;34m\u001b[0m\u001b[0m\n\u001b[0;32m-> 1180\u001b[0;31m             \u001b[0mself\u001b[0m\u001b[0;34m.\u001b[0m\u001b[0m_engine\u001b[0m \u001b[0;34m=\u001b[0m \u001b[0mCParserWrapper\u001b[0m\u001b[0;34m(\u001b[0m\u001b[0mself\u001b[0m\u001b[0;34m.\u001b[0m\u001b[0mf\u001b[0m\u001b[0;34m,\u001b[0m \u001b[0;34m**\u001b[0m\u001b[0mself\u001b[0m\u001b[0;34m.\u001b[0m\u001b[0moptions\u001b[0m\u001b[0;34m)\u001b[0m\u001b[0;34m\u001b[0m\u001b[0;34m\u001b[0m\u001b[0m\n\u001b[0m\u001b[1;32m   1181\u001b[0m         \u001b[0;32melse\u001b[0m\u001b[0;34m:\u001b[0m\u001b[0;34m\u001b[0m\u001b[0;34m\u001b[0m\u001b[0m\n\u001b[1;32m   1182\u001b[0m             \u001b[0;32mif\u001b[0m \u001b[0mengine\u001b[0m \u001b[0;34m==\u001b[0m \u001b[0;34m\"python\"\u001b[0m\u001b[0;34m:\u001b[0m\u001b[0;34m\u001b[0m\u001b[0;34m\u001b[0m\u001b[0m\n",
            "\u001b[0;32m/usr/local/lib/python3.7/dist-packages/pandas/io/parsers.py\u001b[0m in \u001b[0;36m__init__\u001b[0;34m(self, src, **kwds)\u001b[0m\n\u001b[1;32m   2008\u001b[0m         \u001b[0mkwds\u001b[0m\u001b[0;34m[\u001b[0m\u001b[0;34m\"usecols\"\u001b[0m\u001b[0;34m]\u001b[0m \u001b[0;34m=\u001b[0m \u001b[0mself\u001b[0m\u001b[0;34m.\u001b[0m\u001b[0musecols\u001b[0m\u001b[0;34m\u001b[0m\u001b[0;34m\u001b[0m\u001b[0m\n\u001b[1;32m   2009\u001b[0m \u001b[0;34m\u001b[0m\u001b[0m\n\u001b[0;32m-> 2010\u001b[0;31m         \u001b[0mself\u001b[0m\u001b[0;34m.\u001b[0m\u001b[0m_reader\u001b[0m \u001b[0;34m=\u001b[0m \u001b[0mparsers\u001b[0m\u001b[0;34m.\u001b[0m\u001b[0mTextReader\u001b[0m\u001b[0;34m(\u001b[0m\u001b[0msrc\u001b[0m\u001b[0;34m,\u001b[0m \u001b[0;34m**\u001b[0m\u001b[0mkwds\u001b[0m\u001b[0;34m)\u001b[0m\u001b[0;34m\u001b[0m\u001b[0;34m\u001b[0m\u001b[0m\n\u001b[0m\u001b[1;32m   2011\u001b[0m         \u001b[0mself\u001b[0m\u001b[0;34m.\u001b[0m\u001b[0munnamed_cols\u001b[0m \u001b[0;34m=\u001b[0m \u001b[0mself\u001b[0m\u001b[0;34m.\u001b[0m\u001b[0m_reader\u001b[0m\u001b[0;34m.\u001b[0m\u001b[0munnamed_cols\u001b[0m\u001b[0;34m\u001b[0m\u001b[0;34m\u001b[0m\u001b[0m\n\u001b[1;32m   2012\u001b[0m \u001b[0;34m\u001b[0m\u001b[0m\n",
            "\u001b[0;32mpandas/_libs/parsers.pyx\u001b[0m in \u001b[0;36mpandas._libs.parsers.TextReader.__cinit__\u001b[0;34m()\u001b[0m\n",
            "\u001b[0;32mpandas/_libs/parsers.pyx\u001b[0m in \u001b[0;36mpandas._libs.parsers.TextReader._setup_parser_source\u001b[0;34m()\u001b[0m\n",
            "\u001b[0;31mFileNotFoundError\u001b[0m: [Errno 2] No such file or directory: '/content/highway.csv'"
          ]
        },
        {
          "output_type": "display_data",
          "data": {
            "text/plain": [
              "<Figure size 1152x1152 with 0 Axes>"
            ]
          },
          "metadata": {}
        }
      ]
    },
    {
      "cell_type": "markdown",
      "metadata": {
        "id": "-euU71qAXqBO"
      },
      "source": [
        "# 4.1 Center Trajectories"
      ]
    },
    {
      "cell_type": "code",
      "metadata": {
        "id": "FR5yt5lkZt0A"
      },
      "source": [
        "def trajectory_norm(T):\n",
        "    d = 0\n",
        "    for i in range(len(T)-1):\n",
        "        d += dist(T[i], T[i+1])\n",
        "    return d\n",
        "\n",
        "\n",
        "def center1(trajectories, metric='dtw'):\n",
        "    distances = [[0]*len(trajectories) for i in range(len(trajectories))]\n",
        "    for i, t1 in enumerate(trajectories):\n",
        "        for j, t2 in enumerate(trajectories):\n",
        "            if metric == 'dtw':\n",
        "                distances[i][j] = dtw(t1, t2)[0]\n",
        "            else:\n",
        "                distances[i][j] = dfd(t1, t2)[0]\n",
        "    distances = np.array(distances)\n",
        "    center = np.argmax(np.sum(distances, axis=1), axis=0)\n",
        "    return trajectories[center]\n",
        "\n",
        "\n",
        "def slope(p1, p2):\n",
        "    dx = (p1[0]-p2[0])\n",
        "    dy = (p1[1]-p2[1])\n",
        "    return dy/dx\n",
        "\n",
        "\n",
        "def angle(p1, p2):\n",
        "    if p1[0] == p2[0]:\n",
        "        return math.pi/2\n",
        "    return math.atan(slope(p1, p2))\n",
        "\n",
        "\n",
        "def center2(trajectories, h):\n",
        "    '''Finds the h-center trajectory. Here we traverse the trajectory \n",
        "    line segment by line segment until we reach a length < x.||T||. \n",
        "    In the final line segment we get the point by \n",
        "    (x+r*cos(theta), y + r*sin(theta))'''\n",
        "\n",
        "    points = [[(0, 0)]*(h+1) for i in range(len(trajectories))]\n",
        "    for i, t in enumerate(trajectories):\n",
        "        \n",
        "        tnorm = trajectory_norm(t)\n",
        "        currptr = 0\n",
        "        nextptr = 1\n",
        "        distance_covered = 0.0\n",
        "        for h_i in range(h+1):\n",
        "            x = h_i/h\n",
        "            dist_to_cover = x*tnorm\n",
        "            \n",
        "            while nextptr < len(t):\n",
        "                # print(f'h_i: {h_i} | curr: {t[currptr]} | next: {t[nextptr]} | distance_covered: {distance_covered} | dist: {dist(t[nextptr], t[currptr])} | dist_to_cover: {dist_to_cover}')\n",
        "                if distance_covered + dist(t[nextptr], t[currptr]) >= dist_to_cover:\n",
        "                    ang = angle(t[currptr], t[nextptr])\n",
        "                    curr = t[currptr]\n",
        "                    r = dist_to_cover - distance_covered\n",
        "                    pt = (curr[0] + r*math.cos(ang), curr[1] + r*math.sin(ang))\n",
        "                    points[i][h_i] = pt\n",
        "                    break\n",
        "                else:\n",
        "                    distance_covered += dist(t[nextptr], t[currptr])\n",
        "                    currptr += 1\n",
        "                    nextptr += 1\n",
        "    points = np.array(points)\n",
        "    center = np.mean(points, axis=0)          \n",
        "    return center"
      ],
      "execution_count": 107,
      "outputs": []
    },
    {
      "cell_type": "code",
      "metadata": {
        "id": "MQ3jYCTpbPO7",
        "colab": {
          "base_uri": "https://localhost:8080/"
        },
        "outputId": "bd8e087a-4dcf-4261-a062-41173cad0a15"
      },
      "source": [
        "trajectories = [[[0,0], [1,1], [2,2]]]\n",
        "h = 3\n",
        "center2(trajectories, h)"
      ],
      "execution_count": 108,
      "outputs": [
        {
          "output_type": "execute_result",
          "data": {
            "text/plain": [
              "array([[0.        , 0.        ],\n",
              "       [0.66666667, 0.66666667],\n",
              "       [1.33333333, 1.33333333],\n",
              "       [2.        , 2.        ]])"
            ]
          },
          "metadata": {},
          "execution_count": 108
        }
      ]
    },
    {
      "cell_type": "markdown",
      "metadata": {
        "id": "nYoRkEB8gDLk"
      },
      "source": [
        "# Part 3\n"
      ]
    },
    {
      "cell_type": "code",
      "metadata": {
        "id": "H0yDftx5gF9K"
      },
      "source": [
        "def reassign_cluster(X, centers):\n",
        "  clusters = {}\n",
        "  for x in X:\n",
        "      min = np.linalg.norm(x - centers[0])\n",
        "      minCenter = 0\n",
        "      for i in range(len(centers)):\n",
        "        dist = np.linalg.norm(x - centers[i])\n",
        "        if(dist < min):\n",
        "          min = dist\n",
        "          minCenter = i\n",
        "      try:\n",
        "          clusters[minCenter].append(x)\n",
        "      except KeyError:\n",
        "          clusters[minCenter] = [x]\n",
        "\n",
        "  return clusters"
      ],
      "execution_count": null,
      "outputs": []
    },
    {
      "cell_type": "code",
      "metadata": {
        "id": "sWRPEw3vgVun"
      },
      "source": [
        "def compute_centers(clusters):\n",
        "    newcenter = []\n",
        "    for k in sorted(clusters.keys()):\n",
        "        newcenter.append(np.mean(clusters[k], axis = 0))\n",
        "    return newcenter"
      ],
      "execution_count": null,
      "outputs": []
    },
    {
      "cell_type": "code",
      "metadata": {
        "id": "uM6-uWXqgYik"
      },
      "source": [
        "def find_cluster(X,K,t):\n",
        "    C = []\n",
        "    T = []\n",
        "\n",
        "    oldcenters = np.asarray(random.sample(X.tolist(), K))\n",
        "    centers = np.asarray(random.sample(X.tolist(), K))\n",
        "    clusters = reassign_cluster(X, centers)\n",
        "    \n",
        "    count = 0\n",
        "\n",
        "    #changed or to and\n",
        "\n",
        "    while ((np.array_equal(oldcenters,centers)!= True) and (count < t)):\n",
        "      count = count + 1\n",
        "      oldcenters = centers\n",
        "      #reassignment\n",
        "      clusters = reassign_cluster(X, centers)\n",
        "      #center computation\n",
        "      centers = compute_centers(clusters)\n",
        "    return (centers, clusters)"
      ],
      "execution_count": null,
      "outputs": []
    },
    {
      "cell_type": "code",
      "metadata": {
        "id": "2upsRtxygbik"
      },
      "source": [
        "def lloyd_alg(X,K,t,r):\n",
        "  C = []\n",
        "  T = []\n",
        "  for i in range(r):\n",
        "    N = find_cluster(X,K,t)\n",
        "    C.append(N[0])\n",
        "    T.append(N[1])\n",
        "\n",
        "  #Choose minimum distance of r tries\n",
        "  minsum = float('inf')\n",
        "  ind = 0\n",
        "  for i in range(r):\n",
        "    sum = 0\n",
        "    for k in range(len(C[i])):\n",
        "      for j in range(len(T[i][k])):\n",
        "        sum = sum + np.linalg.norm(T[i][k][j] - C[i][k])\n",
        "    if(sum < minsum):\n",
        "      minsum = sum \n",
        "      ind = i\n",
        "      res = (C,T, C[i])\n",
        "  \n",
        "  return res"
      ],
      "execution_count": null,
      "outputs": []
    }
  ]
}