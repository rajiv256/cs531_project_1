{
  "nbformat": 4,
  "nbformat_minor": 0,
  "metadata": {
    "colab": {
      "name": "cs531_project.ipynb",
      "private_outputs": true,
      "provenance": [],
      "collapsed_sections": [],
      "include_colab_link": true
    },
    "kernelspec": {
      "name": "python3",
      "display_name": "Python 3"
    },
    "language_info": {
      "name": "python"
    }
  },
  "cells": [
    {
      "cell_type": "markdown",
      "metadata": {
        "id": "view-in-github",
        "colab_type": "text"
      },
      "source": [
        "<a href=\"https://colab.research.google.com/github/rajiv256/cs531_project_1/blob/main/cs531_project.ipynb\" target=\"_parent\"><img src=\"https://colab.research.google.com/assets/colab-badge.svg\" alt=\"Open In Colab\"/></a>"
      ]
    },
    {
      "cell_type": "markdown",
      "metadata": {
        "id": "0znfbvySZFG9"
      },
      "source": [
        "# Imports and Global Variables"
      ]
    },
    {
      "cell_type": "code",
      "metadata": {
        "id": "zwA6oisbZI7n"
      },
      "source": [
        "import pandas as pd\n",
        "import numpy as np\n",
        "import random\n",
        "import matplotlib.pyplot as plt\n",
        "import seaborn as sns\n",
        "sns.set_theme()"
      ],
      "execution_count": null,
      "outputs": []
    },
    {
      "cell_type": "markdown",
      "metadata": {
        "id": "HMljx5VOXIn5"
      },
      "source": [
        "# Distances"
      ]
    },
    {
      "cell_type": "code",
      "metadata": {
        "id": "xWdg9d-uXJsp"
      },
      "source": [
        "def dtw(T1, T2):\n",
        "    \n",
        "    \n",
        "    \"\"\"\n",
        "    This is code with running time O(|T1|*|T2|) and space O(|T2|)\n",
        "    It returns only the value for dtw(T1,T2)\n",
        "    Below is code with running time O(|T1|*|T2|) and space O(|T1|*|T2|), that can also return the monotone assignment\n",
        "    \n",
        "    memo = [0] * len(T2)\n",
        "    memo[0] .append(dist(T1[0], T2[0]))\n",
        "    for col in range(1, len(T2)):\n",
        "        memo[i] = memo[col - 1] + dist(T1[0], T2[col])\n",
        "        \n",
        "    for row in range(1, len(T1)):\n",
        "        temp = memo[0]\n",
        "        memo[0] = memo[0] + dist(T1[row], T2[0])\n",
        "        for col in range(1, len(T2)):\n",
        "            store = memo[col]\n",
        "            \n",
        "            memo[col] = dist(T1[row], T2[col]) + min(temp, memo[col-1], memo[col])\n",
        "            temp = store\n",
        "            \n",
        "    return memo[-1]\n",
        "    \"\"\"\n",
        "    \n",
        "    #We store in matrix[row][col][0] the minimal dtw when we assign only the first \"row\" points in T1 \n",
        "    #and the first \"col\" points in T2.\n",
        "    #matrix[row][col] = dist(T1[row], T2[col]) + min(matrix[row-1][col-1], matrix[row-1][col], matrix[row][col-1])\n",
        "    \n",
        "    #Note that an assignment of the first \"row\" points in T1 and the first \"col\" points in T2, \n",
        "    #always assigns the last point of T1 to the last point of T2.\n",
        "    #Note as well that the assignment of points is monotone and thus it is nondecreasing in both indices\n",
        "    #i.e. assignment[i][0] <= assignment[i + 1][0], and assignment[i][1] <= assignment[i + 1][1]\n",
        "    #That allows us to efficiently store only the differences between assignment[i + 1] - assignment[i]\n",
        "    \n",
        "    #Thus we store in matrix[row][col][1] the previous tuple of points in the assignment \n",
        "    #E.g. if matrix[row-1][col-1] ==  min(matrix[row-1][col-1], matrix[row-1][col], matrix[row][col-1]),\n",
        "    #then we asssign (row-1, col-1), and store in matrix[row][col][1] the vector (-1,-1) since (row-1, col-1) = (row, col) + (-1,-1)\n",
        "    \n",
        "    #if matrix[row-1][col] ==  min(matrix[row-1][col-1], matrix[row-1][col], matrix[row][col-1]),\n",
        "    #then we asssign (row-1, col), and store in matrix[row][col][1] the vector (-1,0) since (row-1, col) = (row, col) + (-1,0)\n",
        "    \n",
        "    matrix = [[[] for i in range(len(T2))] for j in range(len(T1))]\n",
        "    matrix[0][0].append(dist(T1[0], T2[0]))\n",
        "    for col in range(1, len(T2)):\n",
        "        matrix[0][col].append(matrix[0][col - 1][0] + dist(T1[0], T2[col]))\n",
        "        matrix[0][col].append((0,-1))\n",
        "    for row in range(1, len(T1)):\n",
        "        matrix[row][0].append(matrix[row - 1][0][0] + dist(T1[row], T2[0]))\n",
        "        matrix[row][0].append((-1,0))\n",
        "        \n",
        "    for row in range(1, len(T1)):\n",
        "        for col in range(1, len(T2)):\n",
        "            recursive = min(matrix[row-1][col-1][0], matrix[row-1][col][0], matrix[row][col-1][0])\n",
        "            \n",
        "            matrix[row][col].append(dist(T1[row], T2[col]) + recursive)\n",
        "            \n",
        "            if matrix[row-1][col-1][0] == recursive:\n",
        "                matrix[row][col].append((-1,-1))\n",
        "            elif matrix[row-1][col][0] == recursive:\n",
        "                matrix[row][col].append((-1,0))\n",
        "            else:\n",
        "                matrix[row][col].append((0,-1))\n",
        "    \n",
        "    #The moves that we store in matrix[i][j][1] are essentially pointers to the next tuple of points in @assignment\n",
        "    #We traverse through those pointers from the bottom right corner (len(T1)- 1, len(T2) -1) until we reach (0,0).\n",
        "    \n",
        "    row , col = len(T1) -1, len(T2) -1\n",
        "    assignment = [(row,col)]\n",
        "    while (row,col) != (0,0):\n",
        "        move = matrix[row][col][1]\n",
        "        row = row + move[0]\n",
        "        col = col + move[1]\n",
        "        assignment.append((row,col))\n",
        "        \n",
        "    return matrix[-1][-1][0], assignment\n",
        "\n",
        "def dfd(T1, T2):\n",
        "    \n",
        "    matrix = [[[] for i in range(len(T2))] for j in range(len(T1))]\n",
        "    matrix[0][0].append(dist(T1[0], T2[0]))\n",
        "    for col in range(1, len(T2)):\n",
        "        matrix[0][col].append(max(matrix[0][col - 1][0], dist(T1[0], T2[col])))\n",
        "        matrix[0][col].append((0,-1))\n",
        "    for row in range(1, len(T1)):\n",
        "        matrix[row][0].append(max(matrix[row -1][0][0], dist(T1[row], T2[0])))\n",
        "        matrix[row][0].append((-1,0))\n",
        "        \n",
        "    for row in range(1, len(T1)):\n",
        "        for col in range(1, len(T2)):\n",
        "            recursive = min(matrix[row-1][col-1][0], matrix[row-1][col][0], matrix[row][col-1][0])\n",
        "            \n",
        "            matrix[row][col].append(max(dist(T1[row], T2[col]), recursive))\n",
        "            \n",
        "            if matrix[row-1][col-1][0] == recursive:\n",
        "                matrix[row][col].append((-1,-1))\n",
        "            elif matrix[row-1][col][0] == recursive:\n",
        "                matrix[row][col].append((-1,0))\n",
        "            else:\n",
        "                matrix[row][col].append((0,-1))\n",
        "    \n",
        "    row , col = len(T1) -1, len(T2) -1\n",
        "    assignment = [(row,col)]\n",
        "    while (row,col) != (0,0):\n",
        "        move = matrix[row][col][1]\n",
        "        row = row + move[0]\n",
        "        col = col + move[1]\n",
        "        assignment.append((row,col))\n",
        "        \n",
        "    \n",
        "    return matrix[-1][-1][0], assignment\n",
        "\n",
        "def dist(p,q):\n",
        "    return (p[0] - q[0]) * (p[0] - q[0]) + (p[1] - q[1]) * (p[1] - q[1])"
      ],
      "execution_count": null,
      "outputs": []
    },
    {
      "cell_type": "code",
      "metadata": {
        "id": "4ysJbtRbXRGm"
      },
      "source": [
        "T1 = [[2.1528258009133423, 39.928559077994336], [4.647866589959677, 39.64780624386843], [11.898642946750682, 41.63206128804344], [15.726165297734324, 36.05724150539296], [18.557827345122377, 40.11710460746173], [20.39324892032885, 40.41894870225849], [23.93363772618855, 41.80654250446041], [24.795928009022074, 40.95441045309481], [33.829816600734915, 37.56899354282297], [36.36405536424457, 37.83404055097146], [39.02119417876203, 37.62893662971022], [41.36428411650761, 39.27784213899114], [47.13114231258418, 38.376802156195225], [46.740288655857505, 38.28599982867999], [53.37809242934663, 35.729322675103155], [57.645146849476745, 39.782342857479584], [64.45643110020353, 40.7546622322405], [60.4804857552955, 41.86491777538794], [64.88100271594271, 40.066326679717385]]\n",
        "T2 = [[2.172278245340232, 16.073950141614443], [8.231413636318653, 17.397971866059713], [12.084155569324675, 11.902888640897244], [16.41705862513891, 13.884552536746936], [20.39755197314447, 15.264276751490838], [21.822812402046946, 15.79175824742101], [31.188573323402423, 14.170271056517382], [35.648333717148795, 15.447419764543207], [36.74704074852836, 13.160089800455848], [39.52567236908733, 14.715485873043567], [45.427437674525365, 14.547430037544265], [48.19894173144, 16.43543393014399], [53.1298754931151, 14.199951190186653], [53.484008816238344, 13.648377277391493], [64.37349604796216, 13.661172695102966], [65.6548004169061, 15.418074772217677]]\n",
        "\n",
        "d, assignment = dfd(T1, T2)\n",
        "assignment"
      ],
      "execution_count": null,
      "outputs": []
    },
    {
      "cell_type": "code",
      "metadata": {
        "id": "sD3T8XkaYTey"
      },
      "source": [
        "from google.colab import drive\n",
        "drive.mount('/content/drive')"
      ],
      "execution_count": null,
      "outputs": []
    },
    {
      "cell_type": "markdown",
      "metadata": {
        "id": "2lL3tbGMayjf"
      },
      "source": [
        "# Utils"
      ]
    },
    {
      "cell_type": "code",
      "metadata": {
        "id": "3Nlqy4gnaxe_"
      },
      "source": [
        "import pandas as pd\n",
        "import random as rnd\n",
        "\n",
        "def draw_a_trajectory(dataset='highway'):\n",
        "    '''Returns a list of sorted points from a dataset.'''\n",
        "    PATH = '/content/highway.csv' if dataset=='highway' else '/content/energy.csv'\n",
        "    df = pd.read_csv(PATH)\n",
        "    ids = list(set(df['id']))\n",
        "    select_one = rnd.randint(0, len(ids))\n",
        "    pts = list(df[df['id']==select_one][['x', 'y']].values)\n",
        "    pts = [list(pt) for pt in pts]\n",
        "    id = ids[select_one]\n",
        "    return id, pts"
      ],
      "execution_count": null,
      "outputs": []
    },
    {
      "cell_type": "markdown",
      "metadata": {
        "id": "G675dHBUjvOp"
      },
      "source": [
        "# Plotting Utils"
      ]
    },
    {
      "cell_type": "code",
      "metadata": {
        "id": "PnFWk8lajua-"
      },
      "source": [
        "import matplotlib.pyplot as plt\n",
        "import seaborn as sns\n",
        "sns.set_style('whitegrid')\n",
        "\n",
        "# Plot an assignment\n",
        "\n",
        "def plot_trajectory(T, linestyle='solid', color=None): # or dotted\n",
        "    data = {\n",
        "        'x':[], 'y':[]\n",
        "    }\n",
        "    for pt in T:\n",
        "        data['x'].append(pt[0])\n",
        "        data['y'].append(pt[1])\n",
        "    g = sns.lineplot(data=data, x='x', y='y', markers=True, linestyle=linestyle, color=color)\n",
        "    return g\n",
        "\n",
        "def plot_assignment(T1, T2, d, assignment, id1, id2):\n",
        "    g1 = plot_trajectory(T1, linestyle=\"solid\")\n",
        "    g2 = plot_trajectory(T2, linestyle=\"solid\")\n",
        "    for item in assignment:\n",
        "        joining_trajectory = [T1[item[0]], T2[item[1]]]\n",
        "        g = plot_trajectory(joining_trajectory, linestyle='dashdot')\n",
        "\n",
        "fig = plt.figure(figsize = (12,12))\n",
        "plt.subplots_adjust(hspace=0.8)\n",
        "iter = 1\n",
        "while iter <= 4:\n",
        "    id1, T1 = draw_a_trajectory('highway')\n",
        "    id2, T2 = draw_a_trajectory('highway')\n",
        "\n",
        "    ax = fig.add_subplot(4, 1, iter)\n",
        "    \n",
        "    d, assignment = dtw(T1, T2)\n",
        "    plot_assignment(T1, T2, d, assignment, id1, id2)\n",
        "    ax.set_title(f'T1: {id1} | T2: {id2} |  measure: dtw | distance: {d}')\n",
        "\n",
        "    iter += 1\n",
        "    ax = fig.add_subplot(4, 1, iter)\n",
        "    \n",
        "    d, assignment = dfd(T1, T2)\n",
        "    plot_assignment(T1, T2, d, assignment, id1, id2)\n",
        "    ax.set_title(f'T1: {id1} | T2: {id2} |  measure: dfd | distance: {d}')\n",
        "    iter += 1"
      ],
      "execution_count": null,
      "outputs": []
    },
    {
      "cell_type": "code",
      "metadata": {
        "id": "T1C5lSW1YVyb"
      },
      "source": [
        "# highway_df = pd.read_csv('/content/highway.csv', sep=',')\n",
        "# print(f'Highway dataset:\\nNo. of points: {len(highway_df)}\\nNo. of lanes: {len(set(highway_df[\"lane\"]))} \\\n",
        "#       \\nNo. of trajectories: {len(set(highway_df[\"id\"]))}')"
      ],
      "execution_count": null,
      "outputs": []
    },
    {
      "cell_type": "code",
      "metadata": {
        "id": "stjFxTbUYgIX"
      },
      "source": [
        ""
      ],
      "execution_count": null,
      "outputs": []
    },
    {
      "cell_type": "code",
      "metadata": {
        "id": "FR5yt5lkZt0A"
      },
      "source": [
        ""
      ],
      "execution_count": null,
      "outputs": []
    },
    {
      "cell_type": "markdown",
      "metadata": {
        "id": "3KKChuJFgAM6"
      },
      "source": [
        "## 3.2 1"
      ]
    },
    {
      "cell_type": "code",
      "metadata": {
        "id": "TlJMnD_rcem-"
      },
      "source": [
        "# Draw two pairs of trajectories and computer their assignments and distance\n",
        "# functions.\n",
        "\n",
        "results = []\n",
        "for i in range(2):\n",
        "    T1 = draw_a_trajectory('highway')\n",
        "    T2 = draw_a_trajectory('highway')\n",
        "    print(T1)\n",
        "    print(T2)\n",
        "    dtw_dist, dtw_assignment = dtw(T1, T2)\n",
        "    dfd_dist, dfd_assignment = dfd(T1, T2)"
      ],
      "execution_count": null,
      "outputs": []
    },
    {
      "cell_type": "code",
      "metadata": {
        "id": "iGaZSNfZeiy3"
      },
      "source": [
        ""
      ],
      "execution_count": null,
      "outputs": []
    },
    {
      "cell_type": "code",
      "metadata": {
        "id": "j5WbexLhflv7"
      },
      "source": [
        ""
      ],
      "execution_count": null,
      "outputs": []
    }
  ]
}